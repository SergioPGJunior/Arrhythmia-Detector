{
  "nbformat": 4,
  "nbformat_minor": 0,
  "metadata": {
    "colab": {
      "name": "rede_neural.ipynb",
      "provenance": [],
      "mount_file_id": "1XDjoRzei-6aWcfkglkd3b0nNVlRclGXx",
      "authorship_tag": "ABX9TyPa3ktCKv7ytZZPhpR0+OCR",
      "include_colab_link": true
    },
    "kernelspec": {
      "name": "python3",
      "display_name": "Python 3"
    }
  },
  "cells": [
    {
      "cell_type": "markdown",
      "metadata": {
        "id": "view-in-github",
        "colab_type": "text"
      },
      "source": [
        "<a href=\"https://colab.research.google.com/github/SergioPGJunior/Detectar_Arritmia/blob/master/rede_neural.ipynb\" target=\"_parent\"><img src=\"https://colab.research.google.com/assets/colab-badge.svg\" alt=\"Open In Colab\"/></a>"
      ]
    },
    {
      "cell_type": "code",
      "metadata": {
        "id": "7gv-Dx1Y67os"
      },
      "source": [
        "! pip install wfdb"
      ],
      "execution_count": null,
      "outputs": []
    },
    {
      "cell_type": "code",
      "metadata": {
        "id": "M5PiusYy8LeU"
      },
      "source": [
        "import pandas as pd\n",
        "import numpy as np\n",
        "import wfdb"
      ],
      "execution_count": 2,
      "outputs": []
    },
    {
      "cell_type": "code",
      "metadata": {
        "id": "99jalzb38N7y"
      },
      "source": [
        "def load_ecg(file):\n",
        "    # Leitura e armazenamento dos dados\n",
        "    record = wfdb.rdrecord(file)\n",
        "\n",
        "    # Leitura e armazenamento das anotações\n",
        "    annotation = wfdb.rdann(file, \"atr\")\n",
        "\n",
        "    #Extrai os sinais\n",
        "    p_signal = record.p_signal\n",
        "\n",
        "    #Verifica se a frequência é 360\n",
        "    assert record.fs == 360, \"Frequência de amostragem não é 360\"\n",
        "\n",
        "    #Extrai os símbolos e anotações\n",
        "    atr_sym = annotation.symbol\n",
        "    atr_sample = annotation.sample\n",
        "\n",
        "    return p_signal, atr_sym, atr_sample\n",
        "\n",
        "def build_XY(p_signal, df_ann, num_cols, abnormal, num_sec, fs):\n",
        "  # this function builds the X,Y matrices for each beat\n",
        "  # it also returns the original symbols for Y\n",
        "\n",
        "  num_rows = len(df_ann)\n",
        "  X = np.zeros((num_rows, num_cols))\n",
        "  Y = np.zeros((num_rows, 1))\n",
        "  sym = []\n",
        "\n",
        "  # keep track of rows\n",
        "  max_row = 0\n",
        "  for atr_sample, atr_sym in zip(df_ann.atr_sample.values, df_ann.atr_sym.values):\n",
        "      left = max([0, (atr_sample - num_sec * fs)])\n",
        "      right = min([len(p_signal), (atr_sample + num_sec * fs)])\n",
        "      x = p_signal[left: right]\n",
        "      if len(x) == num_cols:\n",
        "          X[max_row, :] = x\n",
        "          Y[max_row, :] = int(atr_sym in abnormal)\n",
        "          sym.append(atr_sym)\n",
        "          max_row += 1\n",
        "  X = X[:max_row, :]\n",
        "  Y = Y[:max_row, :]\n",
        "  return X, Y, sym"
      ],
      "execution_count": 3,
      "outputs": []
    },
    {
      "cell_type": "code",
      "metadata": {
        "id": "OAC3xnbE8ZNu",
        "outputId": "339fac8e-9ffc-441d-a334-9ae2868860ea",
        "colab": {
          "base_uri": "https://localhost:8080/",
          "height": 52
        }
      },
      "source": [
        "# Caminho onde os arquivos da base de dados estão armazenados\n",
        "path = \"/content/drive/My Drive/mit-bih-arrhythmia-database-1.0.0/\"\n",
        "\n",
        "# Cria um dataframe com os nomes dos arquivos\n",
        "rec = pd.read_csv(path + \"RECORDS\", names=['n'], dtype=str)\n",
        "\n",
        "# Lista de nonbeats e abnormal\n",
        "nonbeat = ['[', '!', ']', 'x', '(', ')', 'p', 't', '`', 'u', '\\\\', '^', '|', '~', '+', 's', 'T', '*', 'D', '=', '\"', '@', 'Q', '?']\n",
        "abnormal = ['V', 'A']\n",
        "\n",
        "num_sec = 1\n",
        "fs = 360\n",
        "\n",
        "#Inicilaiza os vetores\n",
        "num_cols = 2 * num_sec * fs #numero de colunas que vai armazenar um amostra \n",
        "X_all = np.zeros((1, num_cols)) #Cria um vetor com numero de elementos igual a num_cols e preenche com zeros \n",
        "Y_all = np.zeros((1, 1)) #cria um vetor com com um elemento e preenche com zero\n",
        "sym_all = []\n",
        "\n",
        "#Lista para controlar o número de batimentos de cada paciente\n",
        "max_rows = []\n",
        "\n",
        "for pt in rec.n:\n",
        "  file = path + pt\n",
        "  p_signal, atr_sym, atr_sample = load_ecg(file)\n",
        "  \n",
        "  if 'A' and 'V' in atr_sym:\n",
        "    #Seleciona o sinal MLII\n",
        "    p_signal = p_signal[:, 0]\n",
        "    \n",
        "    # Cria um df para excluir o que mão é um batimento\n",
        "    df_ann = pd.DataFrame({'atr_sym': atr_sym,\n",
        "                          'atr_sample': atr_sample})\n",
        "    df_ann = df_ann.loc[df_ann.atr_sym.isin(abnormal + ['N'])]\n",
        "   \n",
        "    X, Y, sym = build_XY(p_signal, df_ann, num_cols, abnormal, num_sec, fs)\n",
        "    sym_all = sym_all + sym\n",
        "    max_rows.append(X.shape[0])\n",
        "    X_all = np.append(X_all, X, axis=0)\n",
        "    Y_all = np.append(Y_all, Y, axis=0)\n",
        "\n",
        "#Exclui a primeira linha que é formada por zeros\n",
        "X_all = X_all[1:, :]\n",
        "Y_all = Y_all[1:, :]\n",
        "\n",
        "#Verifica se os tamanhos das matrizes fazem sentido\n",
        "assert np.sum(max_rows) == X_all.shape[0], 'number of X, max_rows rows messed up'\n",
        "assert Y_all.shape[0] == X_all.shape[0], 'number of X, Y rows messed up'\n",
        "assert Y_all.shape[0] == len(sym_all), 'number of Y, sym rows messed up'\n",
        "\n",
        "d = {x:np.count_nonzero(Y_all == x) for x in [0,1]} #Calcula quantas amostras cada classe possui 0 -> Normal, 1 -> Arritmia\n",
        "\n",
        "print('Classes: ',d)\n",
        "print('Quantidade total de amostras: ', len(X_all)) #Quantidade total de amostras"
      ],
      "execution_count": 13,
      "outputs": [
        {
          "output_type": "stream",
          "text": [
            "Classes:  {0: 55820, 1: 7979}\n",
            "Quantidade total de amostras:  63799\n"
          ],
          "name": "stdout"
        }
      ]
    },
    {
      "cell_type": "code",
      "metadata": {
        "id": "hphQ0n5h8fCB",
        "outputId": "5bc490ad-fa76-490a-c86e-5b41482d966c",
        "colab": {
          "base_uri": "https://localhost:8080/",
          "height": 34
        }
      },
      "source": [
        "from keras.models import Sequential\n",
        "from keras.models import load_model\n",
        "from keras.layers import Dense, Dropout\n",
        "from keras.optimizers import SGD\n",
        "from keras.callbacks import EarlyStopping\n",
        "from keras.callbacks import ModelCheckpoint\n",
        "from tensorflow.keras import regularizers\n",
        "import matplotlib.pyplot as plt\n",
        "from sklearn.model_selection import train_test_split\n",
        "\n",
        "X_train, X_test, y_train, y_test = train_test_split(X_all, Y_all, test_size=0.3)\n",
        "\n",
        "# create model\n",
        "model = Sequential()\n",
        "model.add(Dense(15, input_dim=X_train.shape[1], activation='relu',activity_regularizer=regularizers.l2(0.001)))\n",
        "model.add(Dropout(rate=0.25))\n",
        "model.add(Dense(1, activation='sigmoid'))\n",
        "\n",
        "# Compile model\n",
        "opt = SGD(learning_rate=0.01)\n",
        "model.compile(loss='binary_crossentropy', optimizer=opt, metrics=['accuracy'])\n",
        "\n",
        "# simple early stopping\n",
        "es = EarlyStopping(monitor='val_loss', mode='min', verbose=1, patience=10)\n",
        "mc = ModelCheckpoint('best_model.h5', monitor='val_accuracy', mode='max', verbose=0, save_best_only=True)\n",
        "\n",
        "#Dado que o número de amostras de batimentos normais é 7 vezes maior do que anormais, foi utilizado o balancemaneto das classes\n",
        "class_weight = {0: 1.,\n",
        "                1: 7.}\n",
        "\n",
        "# Fit the model\n",
        "history = model.fit(X_train, y_train, validation_split=0.3, epochs=500, batch_size=32, class_weight=class_weight, verbose=0, callbacks=[es, mc])\n"
      ],
      "execution_count": 7,
      "outputs": [
        {
          "output_type": "stream",
          "text": [
            "Epoch 00038: early stopping\n"
          ],
          "name": "stdout"
        }
      ]
    },
    {
      "cell_type": "code",
      "metadata": {
        "id": "JjtyXA7J9QaD",
        "outputId": "09cf3a32-8bc4-4590-d638-8103d146b933",
        "colab": {
          "base_uri": "https://localhost:8080/",
          "height": 278
        }
      },
      "source": [
        "import matplotlib.pyplot as plt\n",
        "\n",
        "# summarize history for accuracy\n",
        "plt.plot(history.history['accuracy'])\n",
        "plt.plot(history.history['val_accuracy'])\n",
        "#plt.title('model accuracy')\n",
        "plt.ylabel('accuracy')\n",
        "plt.xlabel('epoch')\n",
        "plt.legend(['train', 'test'], loc='upper left')\n",
        "plt.show()"
      ],
      "execution_count": 8,
      "outputs": [
        {
          "output_type": "display_data",
          "data": {
            "image/png": "[encoded data removed]",
            "text/plain": [
              "<Figure size 432x288 with 1 Axes>"
            ]
          },
          "metadata": {
            "tags": [],
            "needs_background": "light"
          }
        }
      ]
    },
    {
      "cell_type": "code",
      "metadata": {
        "id": "p1Oqa6Eh9REu",
        "outputId": "d31a770a-15ab-43fa-de75-6cac289d78cb",
        "colab": {
          "base_uri": "https://localhost:8080/",
          "height": 296
        }
      },
      "source": [
        "# summarize history for loss\n",
        "plt.plot(history.history['loss'])\n",
        "plt.plot(history.history['val_loss'])\n",
        "plt.ylabel('loss')\n",
        "plt.xlabel('epoch')\n",
        "plt.legend(['train', 'test'], loc='upper right')"
      ],
      "execution_count": 9,
      "outputs": [
        {
          "output_type": "execute_result",
          "data": {
            "text/plain": [
              "<matplotlib.legend.Legend at 0x7fe31baab9b0>"
            ]
          },
          "metadata": {
            "tags": []
          },
          "execution_count": 9
        },
        {
          "output_type": "display_data",
          "data": {
            "image/png": "[encoded data removed]",
            "text/plain": [
              "<Figure size 432x288 with 1 Axes>"
            ]
          },
          "metadata": {
            "tags": [],
            "needs_background": "light"
          }
        }
      ]
    },
    {
      "cell_type": "code",
      "metadata": {
        "id": "yWOHUMlu-MRr",
        "outputId": "ab0ba101-6488-4c7b-d1ef-26d48fcc9a34",
        "colab": {
          "base_uri": "https://localhost:8080/",
          "height": 232
        }
      },
      "source": [
        "from sklearn.metrics import accuracy_score\n",
        "from sklearn.metrics import precision_score\n",
        "from sklearn.metrics import recall_score\n",
        "from sklearn.metrics import f1_score\n",
        "from sklearn.metrics import cohen_kappa_score\n",
        "from sklearn.metrics import roc_auc_score\n",
        "from sklearn.metrics import confusion_matrix\n",
        "\n",
        "# predict probabilities for test set\n",
        "yhat_probs = model.predict(X_test, verbose=0)\n",
        "# predict crisp classes for test set\n",
        "yhat_classes = model.predict_classes(X_test, verbose=0)\n",
        "\n",
        "\n",
        "# The predictions are returned in a two-dimensional array, with one row for each example in the test dataset and one column for the prediction.\n",
        "# The scikit-learn metrics API expects a 1D array of actual and predicted values for comparison, therefore, we must reduce the 2D prediction arrays to 1D arrays\n",
        "# reduce to 1d array\n",
        "yhat_probs = yhat_probs[:, 0]\n",
        "yhat_classes = yhat_classes[:, 0]\n",
        "\n",
        "# accuracy: (tp + tn) / (p + n)\n",
        "accuracy = accuracy_score(y_test, yhat_classes)\n",
        "print('Accuracy: %f' % accuracy)\n",
        "# precision tp / (tp + fp)\n",
        "precision = precision_score(y_test, yhat_classes)\n",
        "print('Precision: %f' % precision)\n",
        "# recall: tp / (tp + fn)\n",
        "recall = recall_score(y_test, yhat_classes)\n",
        "print('Recall: %f' % recall)\n",
        "# f1: 2 tp / (2 tp + fp + fn)\n",
        "f1 = f1_score(y_test, yhat_classes)\n",
        "print('F1 score: %f' % f1)\n",
        "\n",
        "# kappa\n",
        "kappa = cohen_kappa_score(y_test, yhat_classes)\n",
        "print('Cohens kappa: %f' % kappa)\n",
        "# ROC AUC\n",
        "auc = roc_auc_score(y_test, yhat_probs)\n",
        "print('ROC AUC: %f' % auc)\n",
        "# confusion matrix\n",
        "matrix = confusion_matrix(y_test, yhat_classes)\n",
        "print(matrix)"
      ],
      "execution_count": 10,
      "outputs": [
        {
          "output_type": "stream",
          "text": [
            "WARNING:tensorflow:From <ipython-input-10-ac1f48726ecc>:12: Sequential.predict_classes (from tensorflow.python.keras.engine.sequential) is deprecated and will be removed after 2021-01-01.\n",
            "Instructions for updating:\n",
            "Please use instead:* `np.argmax(model.predict(x), axis=-1)`,   if your model does multi-class classification   (e.g. if it uses a `softmax` last-layer activation).* `(model.predict(x) > 0.5).astype(\"int32\")`,   if your model does binary classification   (e.g. if it uses a `sigmoid` last-layer activation).\n",
            "Accuracy: 0.982236\n",
            "Precision: 0.928367\n",
            "Recall: 0.932182\n",
            "F1 score: 0.930271\n",
            "Cohens kappa: 0.920092\n",
            "ROC AUC: 0.988435\n",
            "[[16532   175]\n",
            " [  165  2268]]\n"
          ],
          "name": "stdout"
        }
      ]
    }
  ]
}
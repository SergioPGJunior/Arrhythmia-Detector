{
  "nbformat": 4,
  "nbformat_minor": 0,
  "metadata": {
    "colab": {
      "name": "rede_neural.ipynb",
      "provenance": [],
      "mount_file_id": "1XDjoRzei-6aWcfkglkd3b0nNVlRclGXx",
      "authorship_tag": "ABX9TyPMk3edg0KocApLz0U3zCj+",
      "include_colab_link": true
    },
    "kernelspec": {
      "name": "python3",
      "display_name": "Python 3"
    }
  },
  "cells": [
    {
      "cell_type": "markdown",
      "metadata": {
        "id": "view-in-github",
        "colab_type": "text"
      },
      "source": [
        "<a href=\"https://colab.research.google.com/github/SergioPGJunior/Detectar_Arritmia/blob/master/rede_neural.ipynb\" target=\"_parent\"><img src=\"https://colab.research.google.com/assets/colab-badge.svg\" alt=\"Open In Colab\"/></a>"
      ]
    },
    {
      "cell_type": "code",
      "metadata": {
        "id": "7gv-Dx1Y67os"
      },
      "source": [
        "! pip install wfdb"
      ],
      "execution_count": null,
      "outputs": []
    },
    {
      "cell_type": "code",
      "metadata": {
        "id": "M5PiusYy8LeU"
      },
      "source": [
        "import pandas as pd\n",
        "import numpy as np\n",
        "import wfdb"
      ],
      "execution_count": null,
      "outputs": []
    },
    {
      "cell_type": "code",
      "metadata": {
        "id": "99jalzb38N7y"
      },
      "source": [
        "def load_ecg(file):\n",
        "    # Leitura e armazenamento dos dados\n",
        "    record = wfdb.rdrecord(file)\n",
        "\n",
        "    # Leitura e armazenamento das anotações\n",
        "    annotation = wfdb.rdann(file, \"atr\")\n",
        "\n",
        "    #Extrai os sinais\n",
        "    p_signal = record.p_signal\n",
        "\n",
        "    #Verifica se a frequência é 360\n",
        "    assert record.fs == 360, \"Frequência de amostragem não é 360\"\n",
        "\n",
        "    #Extrai os símbolos e anotações\n",
        "    atr_sym = annotation.symbol\n",
        "    atr_sample = annotation.sample\n",
        "\n",
        "    return p_signal, atr_sym, atr_sample\n",
        "\n",
        "def build_XY(p_signal, df_ann, num_cols, abnormal, num_sec, fs):\n",
        "  # this function builds the X,Y matrices for each beat\n",
        "  # it also returns the original symbols for Y\n",
        "\n",
        "  num_rows = len(df_ann)\n",
        "  X = np.zeros((num_rows, num_cols))\n",
        "  Y = np.zeros((num_rows, 1))\n",
        "  sym = []\n",
        "\n",
        "  # keep track of rows\n",
        "  max_row = 0\n",
        "  for atr_sample, atr_sym in zip(df_ann.atr_sample.values, df_ann.atr_sym.values):\n",
        "      left = max([0, (atr_sample - num_sec * fs)])\n",
        "      right = min([len(p_signal), (atr_sample + num_sec * fs)])\n",
        "      x = p_signal[left: right]\n",
        "      if len(x) == num_cols:\n",
        "          X[max_row, :] = x\n",
        "          Y[max_row, :] = int(atr_sym in abnormal)\n",
        "          sym.append(atr_sym)\n",
        "          max_row += 1\n",
        "  X = X[:max_row, :]\n",
        "  Y = Y[:max_row, :]\n",
        "  return X, Y, sym"
      ],
      "execution_count": null,
      "outputs": []
    },
    {
      "cell_type": "code",
      "metadata": {
        "id": "OAC3xnbE8ZNu",
        "colab": {
          "base_uri": "https://localhost:8080/"
        },
        "outputId": "b8ac20f6-7b4c-45f3-f716-da59517f1973"
      },
      "source": [
        "# Caminho onde os arquivos da base de dados estão armazenados\n",
        "path = \"/content/drive/My Drive/mit-bih-arrhythmia-database-1.0.0/\"\n",
        "\n",
        "# Cria um dataframe com os nomes dos arquivos\n",
        "rec = pd.read_csv(path + \"RECORDS\", names=['n'], dtype=str)\n",
        "\n",
        "# Lista de nonbeats e abnormal\n",
        "nonbeat = ['[', '!', ']', 'x', '(', ')', 'p', 't', '`', 'u', '\\\\', '^', '|', '~', '+', 's', 'T', '*', 'D', '=', '\"', '@', 'Q', '?']\n",
        "abnormal = ['V', 'A']\n",
        "\n",
        "num_sec = 1\n",
        "fs = 360\n",
        "\n",
        "#Inicilaiza os vetores\n",
        "num_cols = 2 * num_sec * fs #numero de colunas que vai armazenar um amostra \n",
        "X_all = np.zeros((1, num_cols)) #Cria um vetor com numero de elementos igual a num_cols e preenche com zeros \n",
        "Y_all = np.zeros((1, 1)) #cria um vetor com com um elemento e preenche com zero\n",
        "sym_all = []\n",
        "\n",
        "#Lista para controlar o número de batimentos de cada paciente\n",
        "max_rows = []\n",
        "\n",
        "for pt in rec.n:\n",
        "  file = path + pt\n",
        "  p_signal, atr_sym, atr_sample = load_ecg(file)\n",
        "  \n",
        "  if 'A' and 'V' in atr_sym:\n",
        "    #Seleciona o sinal MLII\n",
        "    p_signal = p_signal[:, 0]\n",
        "    \n",
        "    # Cria um df para excluir o que mão é um batimento\n",
        "    df_ann = pd.DataFrame({'atr_sym': atr_sym,\n",
        "                          'atr_sample': atr_sample})\n",
        "    df_ann = df_ann.loc[df_ann.atr_sym.isin(abnormal + ['N'])]\n",
        "   \n",
        "    X, Y, sym = build_XY(p_signal, df_ann, num_cols, abnormal, num_sec, fs)\n",
        "    sym_all = sym_all + sym\n",
        "    max_rows.append(X.shape[0])\n",
        "    X_all = np.append(X_all, X, axis=0)\n",
        "    Y_all = np.append(Y_all, Y, axis=0)\n",
        "\n",
        "#Exclui a primeira linha que é formada por zeros\n",
        "X_all = X_all[1:, :]\n",
        "Y_all = Y_all[1:, :]\n",
        "\n",
        "#Verifica se os tamanhos das matrizes fazem sentido\n",
        "assert np.sum(max_rows) == X_all.shape[0], 'number of X, max_rows rows messed up'\n",
        "assert Y_all.shape[0] == X_all.shape[0], 'number of X, Y rows messed up'\n",
        "assert Y_all.shape[0] == len(sym_all), 'number of Y, sym rows messed up'\n",
        "\n",
        "d = {x:np.count_nonzero(Y_all == x) for x in [0,1]} #Calcula quantas amostras cada classe possui 0 -> Normal, 1 -> Arritmia\n",
        "\n",
        "print('Classes: ',d)\n",
        "print('Quantidade total de amostras: ', len(X_all)) #Quantidade total de amostras"
      ],
      "execution_count": null,
      "outputs": [
        {
          "output_type": "stream",
          "text": [
            "Classes:  {0: 55820, 1: 7979}\n",
            "Quantidade total de amostras:  63799\n"
          ],
          "name": "stdout"
        }
      ]
    },
    {
      "cell_type": "code",
      "metadata": {
        "id": "yp-3VbYDWAkR",
        "colab": {
          "base_uri": "https://localhost:8080/"
        },
        "outputId": "271bf40a-d98b-43d5-fa0e-317fc1f8149d"
      },
      "source": [
        "import numpy as np\r\n",
        "from sklearn.neural_network import MLPClassifier\r\n",
        "from sklearn.model_selection import StratifiedShuffleSplit\r\n",
        "from sklearn.model_selection import GridSearchCV\r\n",
        "from sklearn.model_selection import train_test_split\r\n",
        "from sklearn.preprocessing import StandardScaler\r\n",
        "\r\n",
        "scaler = StandardScaler()\r\n",
        "scaler.fit(X_all)\r\n",
        "X_all = scaler.transform(X_all)\r\n",
        "\r\n",
        "X_train, X_test, y_train, y_test = train_test_split(X_all, Y_all, test_size=0.3)\r\n",
        "\r\n",
        "hls_range = [5, 10, 15]  #hidden layer sizes\r\n",
        "lr_range = [0.001, 0.01, 0.1] #learning_rate_init\r\n",
        "\r\n",
        "param_grid = dict(hidden_layer_sizes=hls_range, learning_rate_init=lr_range)\r\n",
        "cv = StratifiedShuffleSplit(n_splits=5, test_size=0.2, random_state=42)\r\n",
        "grid = GridSearchCV(MLPClassifier(activation='tanh',solver='sgd',\r\n",
        "                                  validation_fraction=0.1,early_stopping=True, \r\n",
        "                                  max_iter=500), param_grid=param_grid, cv=cv)\r\n",
        "grid.fit(X_train, np.ravel(y_train))\r\n",
        "\r\n",
        "\r\n",
        "print(\"The best parameters are %s with a score of %0.2f\"\r\n",
        "      % (grid.best_params_, grid.best_score_))"
      ],
      "execution_count": null,
      "outputs": [
        {
          "output_type": "stream",
          "text": [
            "The best parameters are {'hidden_layer_sizes': 15, 'learning_rate_init': 0.01} with a score of 0.98\n"
          ],
          "name": "stdout"
        }
      ]
    },
    {
      "cell_type": "code",
      "metadata": {
        "colab": {
          "base_uri": "https://localhost:8080/"
        },
        "id": "cz6g-r5HVW4E",
        "outputId": "af629443-a4e7-4632-eb76-0384b927fe8b"
      },
      "source": [
        "grid.cv_results_[\"mean_test_score\"]"
      ],
      "execution_count": null,
      "outputs": [
        {
          "output_type": "execute_result",
          "data": {
            "text/plain": [
              "array([0.97424989, 0.97716077, 0.97530228, 0.97810121, 0.98233318,\n",
              "       0.97606359, 0.98145992, 0.98499776, 0.97946708])"
            ]
          },
          "metadata": {
            "tags": []
          },
          "execution_count": 33
        }
      ]
    },
    {
      "cell_type": "code",
      "metadata": {
        "colab": {
          "base_uri": "https://localhost:8080/",
          "height": 80
        },
        "id": "Ws3NmLKDPOmI",
        "outputId": "4aa2b0b8-2bba-4b5e-a672-0eef1eb17d5d"
      },
      "source": [
        "acuracia_media = grid.cv_results_[\"mean_test_score\"]\r\n",
        "acuracia_std = grid.cv_results_[\"std_test_score\"]\r\n",
        "busca_grid = pd.DataFrame(columns=[acuracia_media,acuracia_std])\r\n",
        "busca_grid.head()"
      ],
      "execution_count": null,
      "outputs": [
        {
          "output_type": "execute_result",
          "data": {
            "text/html": [
              "<div>\n",
              "<style scoped>\n",
              "    .dataframe tbody tr th:only-of-type {\n",
              "        vertical-align: middle;\n",
              "    }\n",
              "\n",
              "    .dataframe tbody tr th {\n",
              "        vertical-align: top;\n",
              "    }\n",
              "\n",
              "    .dataframe thead tr th {\n",
              "        text-align: left;\n",
              "    }\n",
              "</style>\n",
              "<table border=\"1\" class=\"dataframe\">\n",
              "  <thead>\n",
              "    <tr>\n",
              "      <th></th>\n",
              "      <th>0.974250</th>\n",
              "      <th>0.977161</th>\n",
              "      <th>0.975302</th>\n",
              "      <th>0.978101</th>\n",
              "      <th>0.982333</th>\n",
              "      <th>0.976064</th>\n",
              "      <th>0.981460</th>\n",
              "      <th>0.984998</th>\n",
              "      <th>0.979467</th>\n",
              "    </tr>\n",
              "    <tr>\n",
              "      <th></th>\n",
              "      <th>0.002751</th>\n",
              "      <th>0.002271</th>\n",
              "      <th>0.002069</th>\n",
              "      <th>0.002235</th>\n",
              "      <th>0.002605</th>\n",
              "      <th>0.001285</th>\n",
              "      <th>0.002172</th>\n",
              "      <th>0.001249</th>\n",
              "      <th>0.002362</th>\n",
              "    </tr>\n",
              "  </thead>\n",
              "  <tbody>\n",
              "  </tbody>\n",
              "</table>\n",
              "</div>"
            ],
            "text/plain": [
              "Empty DataFrame\n",
              "Columns: [(0.9742498880429917, 0.002750590262261876), (0.9771607702642185, 0.0022713756655469344), (0.9753022839229735, 0.0020687522548053835), (0.9781012091356919, 0.002235330390815654), (0.9823331840573222, 0.00260491986304125), (0.9760635915808329, 0.0012851182133705077), (0.981459919390954, 0.0021716196786752025), (0.9849977608598298, 0.0012487096725121813), (0.9794670846394984, 0.0023618418248265733)]\n",
              "Index: []"
            ]
          },
          "metadata": {
            "tags": []
          },
          "execution_count": 31
        }
      ]
    },
    {
      "cell_type": "code",
      "metadata": {
        "colab": {
          "base_uri": "https://localhost:8080/"
        },
        "id": "SJz7iW51Lc4K",
        "outputId": "ee2ed612-25c8-423d-8c9e-3afbcf9af513"
      },
      "source": [
        "from sklearn.metrics import accuracy_score\r\n",
        "from sklearn.metrics import precision_score\r\n",
        "from sklearn.metrics import recall_score\r\n",
        "from sklearn.metrics import f1_score\r\n",
        "from sklearn.metrics import cohen_kappa_score\r\n",
        "from sklearn.metrics import roc_auc_score\r\n",
        "from sklearn.metrics import confusion_matrix\r\n",
        "\r\n",
        "yhat = grid.predict(X_test)\r\n",
        "\r\n",
        "# accuracy: (tp + tn) / (p + n)\r\n",
        "accuracy = accuracy_score(y_test, yhat)\r\n",
        "print('Accuracy: %f' % accuracy)\r\n",
        "# precision tp / (tp + fp)\r\n",
        "precision = precision_score(y_test, yhat)\r\n",
        "print('Precision: %f' % precision)\r\n",
        "# recall: tp / (tp + fn)\r\n",
        "recall = recall_score(y_test, yhat)\r\n",
        "print('Recall: %f' % recall)\r\n",
        "# confusion matrix\r\n",
        "matrix = confusion_matrix(y_test, yhat)\r\n",
        "print(matrix)"
      ],
      "execution_count": null,
      "outputs": [
        {
          "output_type": "stream",
          "text": [
            "Accuracy: 0.986520\n",
            "Precision: 0.970575\n",
            "Recall: 0.920450\n",
            "[[16672    67]\n",
            " [  191  2210]]\n"
          ],
          "name": "stdout"
        }
      ]
    },
    {
      "cell_type": "code",
      "metadata": {
        "colab": {
          "base_uri": "https://localhost:8080/",
          "height": 279
        },
        "id": "6v1S_Fjpaqch",
        "outputId": "2987ae8b-8510-4de0-b6ff-91702d0fbf83"
      },
      "source": [
        "from sklearn.metrics import plot_confusion_matrix\r\n",
        "from matplotlib import pyplot as plt\r\n",
        "\r\n",
        "class_names = ['Normal','Arritmia']\r\n",
        "\r\n",
        "plot_confusion_matrix(grid, X_test, y_test,display_labels=class_names,\r\n",
        "                                 cmap=plt.cm.Blues)\r\n",
        "plt.show()"
      ],
      "execution_count": null,
      "outputs": [
        {
          "output_type": "display_data",
          "data": {
            "image/png": "[encoded data removed]",
            "text/plain": [
              "<Figure size 432x288 with 2 Axes>"
            ]
          },
          "metadata": {
            "tags": [],
            "needs_background": "light"
          }
        }
      ]
    },
    {
      "cell_type": "code",
      "metadata": {
        "id": "hphQ0n5h8fCB",
        "colab": {
          "base_uri": "https://localhost:8080/"
        },
        "outputId": "22acb8bf-25a4-4e0f-ccf3-a3ba9fc1256a"
      },
      "source": [
        "from keras.models import Sequential\n",
        "from keras.models import load_model\n",
        "from keras.layers import Dense, Dropout\n",
        "from keras.optimizers import SGD\n",
        "from keras.callbacks import EarlyStopping\n",
        "from keras.callbacks import ModelCheckpoint\n",
        "from tensorflow.keras import regularizers\n",
        "import matplotlib.pyplot as plt\n",
        "from sklearn.model_selection import train_test_split\n",
        "from sklearn.preprocessing import StandardScaler\n",
        "\n",
        "scaler = StandardScaler()\n",
        "scaler.fit(X_all)\n",
        "X_all = scaler.transform(X_all)\n",
        "\n",
        "X_train, X_test, y_train, y_test = train_test_split(X_all, Y_all, test_size=0.3)\n",
        "\n",
        "# create model\n",
        "model = Sequential()\n",
        "model.add(Dense(15, input_dim=X_train.shape[1], activation='tanh'))\n",
        "#model.add(Dropout(rate=0.25))\n",
        "model.add(Dense(1, activation='sigmoid'))\n",
        "\n",
        "# Compile model\n",
        "opt = SGD(learning_rate=0.01)\n",
        "model.compile(loss='binary_crossentropy', optimizer=opt, metrics=['accuracy'])\n",
        "\n",
        "# simple early stopping\n",
        "es = EarlyStopping(monitor='val_loss', mode='min', verbose=1, patience=10)\n",
        "mc = ModelCheckpoint('best_model.h5', monitor='val_accuracy', mode='max', verbose=0, save_best_only=True)\n",
        "\n",
        "#Dado que o número de amostras de batimentos normais é 7 vezes maior do que anormais, foi utilizado o balancemaneto das classes\n",
        "class_weight = {0: 1.,\n",
        "                1: 7.}\n",
        "\n",
        "# Fit the model\n",
        "history = model.fit(X_train, y_train, validation_split=0.1, epochs=500, batch_size=200, class_weight=class_weight, verbose=0, callbacks=[es, mc])\n"
      ],
      "execution_count": null,
      "outputs": [
        {
          "output_type": "stream",
          "text": [
            "Epoch 00112: early stopping\n"
          ],
          "name": "stdout"
        }
      ]
    },
    {
      "cell_type": "code",
      "metadata": {
        "colab": {
          "base_uri": "https://localhost:8080/"
        },
        "id": "gYHRfMdb9B2A",
        "outputId": "bc621e22-18dc-4bf6-adca-827ad0d6e7b2"
      },
      "source": [
        "history.history['accuracy'][-1]"
      ],
      "execution_count": null,
      "outputs": [
        {
          "output_type": "execute_result",
          "data": {
            "text/plain": [
              "0.9715341329574585"
            ]
          },
          "metadata": {
            "tags": []
          },
          "execution_count": 40
        }
      ]
    },
    {
      "cell_type": "code",
      "metadata": {
        "colab": {
          "base_uri": "https://localhost:8080/"
        },
        "id": "ZM210Pk3kQSk",
        "outputId": "16022bbe-b9dc-40b7-d596-cdca007fc2fe"
      },
      "source": [
        "history.history['val_accuracy'][-1]"
      ],
      "execution_count": null,
      "outputs": [
        {
          "output_type": "execute_result",
          "data": {
            "text/plain": [
              "0.9703313708305359"
            ]
          },
          "metadata": {
            "tags": []
          },
          "execution_count": 41
        }
      ]
    },
    {
      "cell_type": "code",
      "metadata": {
        "id": "JjtyXA7J9QaD",
        "colab": {
          "base_uri": "https://localhost:8080/",
          "height": 283
        },
        "outputId": "98cdb473-9437-4283-edf4-096c6e60ec8a"
      },
      "source": [
        "import matplotlib.pyplot as plt\n",
        "\n",
        "# summarize history for accuracy\n",
        "plt.plot(history.history['accuracy'])\n",
        "plt.plot(history.history['val_accuracy'])\n",
        "#plt.title('model accuracy')\n",
        "plt.ylabel('acurácia')\n",
        "plt.xlabel('época')\n",
        "plt.legend(['treino', 'validação'], loc='lower right')\n",
        "plt.grid()\n",
        "plt.show()"
      ],
      "execution_count": null,
      "outputs": [
        {
          "output_type": "display_data",
          "data": {
            "image/png": "[encoded data removed]",
            "text/plain": [
              "<Figure size 432x288 with 1 Axes>"
            ]
          },
          "metadata": {
            "tags": [],
            "needs_background": "light"
          }
        }
      ]
    },
    {
      "cell_type": "code",
      "metadata": {
        "id": "p1Oqa6Eh9REu",
        "colab": {
          "base_uri": "https://localhost:8080/",
          "height": 280
        },
        "outputId": "d35ea4f2-5430-4657-933a-7e42c4c38972"
      },
      "source": [
        "# summarize history for loss\n",
        "plt.plot(history.history['loss'])\n",
        "plt.plot(history.history['val_loss'])\n",
        "plt.ylabel('loss')\n",
        "plt.xlabel('época')\n",
        "plt.legend(['treino', 'validação'], loc='upper right')\n",
        "plt.grid()\n",
        "plt.show()"
      ],
      "execution_count": null,
      "outputs": [
        {
          "output_type": "display_data",
          "data": {
            "image/png": "[encoded data removed]",
            "text/plain": [
              "<Figure size 432x288 with 1 Axes>"
            ]
          },
          "metadata": {
            "tags": [],
            "needs_background": "light"
          }
        }
      ]
    },
    {
      "cell_type": "code",
      "metadata": {
        "id": "yWOHUMlu-MRr",
        "colab": {
          "base_uri": "https://localhost:8080/"
        },
        "outputId": "7701edf4-92a3-442b-e8a9-a99715079c15"
      },
      "source": [
        "from sklearn.metrics import accuracy_score\n",
        "from sklearn.metrics import precision_score\n",
        "from sklearn.metrics import recall_score\n",
        "from sklearn.metrics import f1_score\n",
        "from sklearn.metrics import cohen_kappa_score\n",
        "from sklearn.metrics import roc_auc_score\n",
        "from sklearn.metrics import confusion_matrix\n",
        "\n",
        "# predict probabilities for test set\n",
        "yhat_probs = model.predict(X_test, verbose=0)\n",
        "# predict crisp classes for test set\n",
        "yhat_classes = model.predict_classes(X_test, verbose=0)\n",
        "\n",
        "\n",
        "# The predictions are returned in a two-dimensional array, with one row for each example in the test dataset and one column for the prediction.\n",
        "# The scikit-learn metrics API expects a 1D array of actual and predicted values for comparison, therefore, we must reduce the 2D prediction arrays to 1D arrays\n",
        "# reduce to 1d array\n",
        "yhat_probs = yhat_probs[:, 0]\n",
        "yhat_classes = yhat_classes[:, 0]\n",
        "\n",
        "# accuracy: (tp + tn) / (p + n)\n",
        "accuracy = accuracy_score(y_test, yhat_classes)\n",
        "print('Accuracy: %f' % accuracy)\n",
        "# precision tp / (tp + fp)\n",
        "precision = precision_score(y_test, yhat_classes)\n",
        "print('Precision: %f' % precision)\n",
        "# recall: tp / (tp + fn)\n",
        "recall = recall_score(y_test, yhat_classes)\n",
        "print('Recall: %f' % recall)\n",
        "# f1: 2 tp / (2 tp + fp + fn)\n",
        "f1 = f1_score(y_test, yhat_classes)\n",
        "print('F1 score: %f' % f1)\n",
        "\n",
        "# kappa\n",
        "kappa = cohen_kappa_score(y_test, yhat_classes)\n",
        "print('Cohens kappa: %f' % kappa)\n",
        "# ROC AUC\n",
        "auc = roc_auc_score(y_test, yhat_probs)\n",
        "print('ROC AUC: %f' % auc)\n",
        "# confusion matrix\n",
        "matrix = confusion_matrix(y_test, yhat_classes)\n",
        "print(matrix)"
      ],
      "execution_count": null,
      "outputs": [
        {
          "output_type": "stream",
          "text": [
            "/usr/local/lib/python3.6/dist-packages/tensorflow/python/keras/engine/sequential.py:450: UserWarning: `model.predict_classes()` is deprecated and will be removed after 2021-01-01. Please use instead:* `np.argmax(model.predict(x), axis=-1)`,   if your model does multi-class classification   (e.g. if it uses a `softmax` last-layer activation).* `(model.predict(x) > 0.5).astype(\"int32\")`,   if your model does binary classification   (e.g. if it uses a `sigmoid` last-layer activation).\n",
            "  warnings.warn('`model.predict_classes()` is deprecated and '\n"
          ],
          "name": "stderr"
        },
        {
          "output_type": "stream",
          "text": [
            "Accuracy: 0.963323\n",
            "Precision: 0.802421\n",
            "Recall: 0.938776\n",
            "F1 score: 0.865259\n",
            "Cohens kappa: 0.844182\n",
            "ROC AUC: 0.984579\n",
            "[[16184   555]\n",
            " [  147  2254]]\n"
          ],
          "name": "stdout"
        }
      ]
    }
  ]
}
{
  "nbformat": 4,
  "nbformat_minor": 0,
  "metadata": {
    "colab": {
      "name": "mit_bih_ml.ipynb",
      "provenance": [],
      "collapsed_sections": [],
      "mount_file_id": "11xgyuztExzpt73ohG3aZZzXeeU2OlyE7",
      "authorship_tag": "ABX9TyO0N0gZ5Rc8YJINVn/P2bwF",
      "include_colab_link": true
    },
    "kernelspec": {
      "name": "python3",
      "display_name": "Python 3"
    },
    "accelerator": "GPU"
  },
  "cells": [
    {
      "cell_type": "markdown",
      "metadata": {
        "id": "view-in-github",
        "colab_type": "text"
      },
      "source": [
        "<a href=\"https://colab.research.google.com/github/SergioPGJunior/detecthypotension/blob/master/mit_bih_ml.ipynb\" target=\"_parent\"><img src=\"https://colab.research.google.com/assets/colab-badge.svg\" alt=\"Open In Colab\"/></a>"
      ]
    },
    {
      "cell_type": "code",
      "metadata": {
        "id": "zGOhVscjeRd6",
        "colab_type": "code",
        "colab": {}
      },
      "source": [
        "! pip install wfdb\n",
        "! pip install h5py\n",
        "! pip install heartpy"
      ],
      "execution_count": null,
      "outputs": []
    },
    {
      "cell_type": "code",
      "metadata": {
        "id": "n4I3bFqijfBa",
        "colab_type": "code",
        "colab": {}
      },
      "source": [
        "import pandas as pd\n",
        "import numpy as np\n",
        "import wfdb\n",
        "import ast\n",
        "from heartpy import filtering"
      ],
      "execution_count": null,
      "outputs": []
    },
    {
      "cell_type": "code",
      "metadata": {
        "id": "dVn9bnkvpU9H",
        "colab_type": "code",
        "colab": {}
      },
      "source": [
        "def load_ecg(file):\n",
        "    # Leitura e armazenamento dos dados\n",
        "    record = wfdb.rdrecord(file)\n",
        "\n",
        "    # Leitura e armazenamento das anotações\n",
        "    annotation = wfdb.rdann(file, \"atr\")\n",
        "\n",
        "    #Extrai os sinais\n",
        "    p_signal = record.p_signal\n",
        "\n",
        "    #Verifica se a frequência é 360\n",
        "    assert record.fs == 360, \"Frequência de amostragem não é 360\"\n",
        "\n",
        "    #Extrai os símbolos e anotações\n",
        "    atr_sym = annotation.symbol\n",
        "    atr_sample = annotation.sample\n",
        "\n",
        "    return p_signal, atr_sym, atr_sample"
      ],
      "execution_count": null,
      "outputs": []
    },
    {
      "cell_type": "code",
      "metadata": {
        "id": "mpsPA6eudEHH",
        "colab_type": "code",
        "colab": {}
      },
      "source": [
        "def build_XY(p_signal, df_ann, num_cols, abnormal, num_sec, fs):\n",
        "  # this function builds the X,Y matrices for each beat\n",
        "  # it also returns the original symbols for Y\n",
        "\n",
        "  num_rows = len(df_ann)\n",
        "  X = np.zeros((num_rows, num_cols))\n",
        "  Y = np.zeros((num_rows, 1))\n",
        "  sym = []\n",
        "\n",
        "  # keep track of rows\n",
        "  max_row = 0\n",
        "  for atr_sample, atr_sym in zip(df_ann.atr_sample.values, df_ann.atr_sym.values):\n",
        "      left = max([0, (atr_sample - num_sec * fs)])\n",
        "      right = min([len(p_signal), (atr_sample + num_sec * fs)])\n",
        "      x = p_signal[left: right]\n",
        "      if len(x) == num_cols:\n",
        "          X[max_row, :] = x\n",
        "          Y[max_row, :] = int(atr_sym in abnormal)\n",
        "          sym.append(atr_sym)\n",
        "          max_row += 1\n",
        "  X = X[:max_row, :]\n",
        "  Y = Y[:max_row, :]\n",
        "  return X, Y, sym"
      ],
      "execution_count": null,
      "outputs": []
    },
    {
      "cell_type": "code",
      "metadata": {
        "id": "KHckTmCwS9VR",
        "colab_type": "code",
        "colab": {
          "base_uri": "https://localhost:8080/",
          "height": 173
        },
        "outputId": "06f3a826-1e1a-451d-c79e-b45414b5699e"
      },
      "source": [
        "# Caminho onde os arquivos da base de dados estão armazenados\n",
        "path = \"/content/drive/My Drive/mit-bih-arrhythmia-database-1.0.0/\"\n",
        "\n",
        "# Cria um dataframe com os nomes dos arquivos\n",
        "rec = pd.read_csv(path + \"RECORDS\", names=\"n\", dtype=str)\n",
        "\n",
        "# Lista de nonbeats e abnormal\n",
        "nonbeat = ['[', '!', ']', 'x', '(', ')', 'p', 't', '`', 'u', '\\\\', '^', '|', '~', '+', 's', 'T', '*', 'D', '=', '\"', '@', 'Q', '?']\n",
        "#abnormal = ['L', 'R', 'V', '/', 'A', 'f', 'F', 'j', 'a', 'E', 'J', 'e', 'S']\n",
        "abnormal = {'V', 'A'}\n",
        "\n",
        "num_sec = 1\n",
        "fs = 360\n",
        "paciente_both = []\n",
        "paciente_any = []\n",
        "paciente_vpc = []\n",
        "paciente_apc = []\n",
        "\n",
        "\n",
        "for pt in rec.n:\n",
        "  file = path + pt\n",
        "  # Leitura e armazenamento das anotações\n",
        "  annotation = wfdb.rdann(file, \"atr\")\n",
        "  #Extrai os símbolos e anotações\n",
        "  atr_sym = annotation.symbol\n",
        "  atr_sample = annotation.sample\n",
        "\n",
        "  atr_sym_set = set(atr_sym)\n",
        "\n",
        "  if atr_sym_set.issuperset(abnormal):\n",
        "    paciente_both.append(pt)\n",
        "\n",
        "  if atr_sym_set.intersection(abnormal):\n",
        "    paciente_any.append(pt)\n",
        "\n",
        "  abnormal = list(abnormal)\n",
        "\n",
        "  if abnormal[0] in atr_sym_set:\n",
        "    paciente_vpc.append(pt)\n",
        "\n",
        "  if abnormal[1] in atr_sym_set:\n",
        "    paciente_apc.append(pt)\n",
        "\n",
        "print(\"Número de pacientes com as duas arritmias: {}\".format(len(paciente_both)))\n",
        "print(\"Pacientes com as duas arritmias: {}\".format(paciente_both))\n",
        "print(\"Número de pacientes com pelo menos uma das arritmias: {}\".format(len(paciente_any)))\n",
        "print(\"Pacientes com pelo menos uma das arritmias: {}\".format(paciente_any))\n",
        "print(\"Número de pacientes com VPC: {}\".format(len(paciente_vpc)))\n",
        "print(\"Pacientes com VPC: {}\".format(paciente_vpc))\n",
        "print(\"Número de pacientes com APC: {}\".format(len(paciente_apc)))\n",
        "print(\"Pacientes com APC: {}\".format(paciente_apc))\n",
        "\n",
        "  "
      ],
      "execution_count": null,
      "outputs": [
        {
          "output_type": "stream",
          "text": [
            "Número de pacientes com as duas arritmias: 20\n",
            "Pacientes com as duas arritmias: ['100', '108', '114', '116', '118', '121', '124', '200', '201', '202', '205', '207', '209', '213', '215', '219', '223', '228', '231', '233']\n",
            "Número de pacientes com pelo menos uma das arritmias: 44\n",
            "Pacientes com pelo menos uma das arritmias: ['100', '101', '102', '103', '104', '105', '106', '107', '108', '109', '111', '112', '114', '116', '117', '118', '119', '121', '123', '124', '200', '201', '202', '203', '205', '207', '208', '209', '210', '213', '214', '215', '217', '219', '220', '221', '222', '223', '228', '230', '231', '232', '233', '234']\n",
            "Número de pacientes com VPC: 37\n",
            "Pacientes com VPC: ['100', '102', '104', '105', '106', '107', '108', '109', '111', '114', '116', '118', '119', '121', '123', '124', '200', '201', '202', '203', '205', '207', '208', '209', '210', '213', '214', '215', '217', '219', '221', '223', '228', '230', '231', '233', '234']\n",
            "Número de pacientes com APC: 27\n",
            "Pacientes com APC: ['100', '101', '103', '108', '112', '114', '116', '117', '118', '121', '124', '200', '201', '202', '205', '207', '209', '213', '215', '219', '220', '222', '223', '228', '231', '232', '233']\n"
          ],
          "name": "stdout"
        }
      ]
    },
    {
      "cell_type": "code",
      "metadata": {
        "id": "A0P8S2wwBV0Z",
        "colab_type": "code",
        "colab": {
          "base_uri": "https://localhost:8080/",
          "height": 51
        },
        "outputId": "256091fb-55d7-498c-ef35-c803782f61a6"
      },
      "source": [
        "# Caminho onde os arquivos da base de dados estão armazenados\n",
        "path = \"/content/drive/My Drive/mit-bih-arrhythmia-database-1.0.0/\"\n",
        "\n",
        "# Cria um dataframe com os nomes dos arquivos\n",
        "rec = pd.read_csv(path + \"RECORDS\", names=\"n\", dtype=str)\n",
        "\n",
        "# Lista de nonbeats e abnormal\n",
        "nonbeat = ['[', '!', ']', 'x', '(', ')', 'p', 't', '`', 'u', '\\\\', '^', '|', '~', '+', 's', 'T', '*', 'D', '=', '\"', '@', 'Q', '?']\n",
        "#abnormal = ['L', 'R', 'V', '/', 'A', 'f', 'F', 'j', 'a', 'E', 'J', 'e', 'S']\n",
        "abnormal = ['V', 'A']\n",
        "\n",
        "num_sec = 1\n",
        "fs = 360\n",
        "\n",
        "#Inicilaiza os vetores\n",
        "num_cols = 2 * num_sec * fs #numero de colunas que vai armazenar um amostra \n",
        "X_all = np.zeros((1, num_cols)) #Cria um vetor com numero de elementos igual a num_cols e preenche com zeros \n",
        "Y_all = np.zeros((1, 1)) #cria um vetor com com um elemento e preenche com zero\n",
        "sym_all = []\n",
        "\n",
        "#Lista para controlar o número de batimentos de cada paciente\n",
        "max_rows = []\n",
        "\n",
        "for pt in rec.n:\n",
        "  file = path + pt\n",
        "  p_signal, atr_sym, atr_sample = load_ecg(file)\n",
        "  \n",
        "  if 'A' and 'V' in atr_sym:\n",
        "    #Seleciona o sinal MLII\n",
        "    p_signal = p_signal[:, 0]\n",
        "    # p_signal = filtering.remove_baseline_wander(p_signal, fs, cutoff=0.05) # remove the baseline wandering\n",
        "\n",
        "    # Cria um df para excluir o que mão é um batimento\n",
        "    df_ann = pd.DataFrame({'atr_sym': atr_sym,\n",
        "                          'atr_sample': atr_sample})\n",
        "    df_ann = df_ann.loc[df_ann.atr_sym.isin(abnormal + ['N'])]\n",
        "\n",
        "    X, Y, sym = build_XY(p_signal, df_ann, num_cols, abnormal, num_sec, fs)\n",
        "    sym_all = sym_all + sym\n",
        "    max_rows.append(X.shape[0])\n",
        "    X_all = np.append(X_all, X, axis=0)\n",
        "    Y_all = np.append(Y_all, Y, axis=0)\n",
        "\n",
        "#Exclui a primeira linha que é formada por zeros\n",
        "X_all = X_all[1:, :]\n",
        "Y_all = Y_all[1:, :]\n",
        "\n",
        "#Verifica se os tamanhos das matrizes fazem sentido\n",
        "assert np.sum(max_rows) == X_all.shape[0], 'number of X, max_rows rows messed up'\n",
        "assert Y_all.shape[0] == X_all.shape[0], 'number of X, Y rows messed up'\n",
        "assert Y_all.shape[0] == len(sym_all), 'number of Y, sym rows messed up'\n",
        "\n",
        "d = {x:np.count_nonzero(Y_all == x) for x in [0,1]} #Calcula quantas amostras cada classe possui 0 -> Normal, 1 -> Arritmia\n",
        "\n",
        "print(d)\n",
        "print(len(X_all)) #Quantidade total de amostras\n"
      ],
      "execution_count": null,
      "outputs": [
        {
          "output_type": "stream",
          "text": [
            "{0: 55820, 1: 7979}\n",
            "63799\n"
          ],
          "name": "stdout"
        }
      ]
    },
    {
      "cell_type": "code",
      "metadata": {
        "id": "5wF1fRxIiTSB",
        "colab_type": "code",
        "colab": {
          "base_uri": "https://localhost:8080/",
          "height": 51
        },
        "outputId": "938ffaa8-b2a3-49b9-c92b-76144a3eba89"
      },
      "source": [
        "from keras.models import Sequential\n",
        "from keras.models import load_model\n",
        "from keras.layers import Dense, Flatten, Dropout\n",
        "from keras.optimizers import Adam, SGD\n",
        "from keras.callbacks import EarlyStopping\n",
        "from keras.callbacks import ModelCheckpoint\n",
        "from tensorflow.keras import regularizers\n",
        "import matplotlib.pyplot as plt\n",
        "import numpy\n",
        "from sklearn.model_selection import train_test_split\n",
        "\n",
        "X_train, X_test, y_train, y_test = train_test_split(X_all, Y_all, test_size=0.3)\n",
        "\n",
        "# create model\n",
        "model = Sequential()\n",
        "model.add(Dense(32, input_dim=X_train.shape[1], activation='relu',activity_regularizer=regularizers.l2(0.001)))\n",
        "model.add(Dropout(rate=0.25))\n",
        "model.add(Dense(1, activation='sigmoid'))\n",
        "\n",
        "# Compile model\n",
        "opt = SGD(learning_rate=0.001)\n",
        "#opt = Adam(learning_rate=0.001)\n",
        "model.compile(loss='binary_crossentropy', optimizer=opt, metrics=['accuracy'])\n",
        "\n",
        "# simple early stopping\n",
        "es = EarlyStopping(monitor='val_loss', mode='min', verbose=1, patience=10)\n",
        "mc = ModelCheckpoint('best_model.h5', monitor='val_accuracy', mode='max', verbose=0, save_best_only=True)\n",
        "\n",
        "#Dado que o número de amostras de batimentos normais é 7 vezes maior do que anormais, foi utilizado o balancemaneto das classes\n",
        "class_weight = {0: 1.,\n",
        "                1: 7.}\n",
        "\n",
        "# Fit the model\n",
        "history = model.fit(X_all, Y_all, validation_split=0.3, epochs=500, batch_size=32, class_weight=class_weight, verbose=0, callbacks=[es, mc])\n",
        "#history = model.fit(X_all, Y_all, validation_split=0.3, epochs=500, batch_size=32, verbose=0, callbacks=[es, mc])\n",
        "\n",
        "# evaluate the model\n",
        "_, train_acc = model.evaluate(X_train, y_train, verbose=0)\n",
        "_, test_acc = model.evaluate(X_test, y_test, verbose=0)\n",
        "\n",
        "print('Train: %.3f, Test: %.3f' % (train_acc, test_acc))"
      ],
      "execution_count": null,
      "outputs": [
        {
          "output_type": "stream",
          "text": [
            "Epoch 00084: early stopping\n",
            "Train: 0.986, Test: 0.986\n"
          ],
          "name": "stdout"
        }
      ]
    },
    {
      "cell_type": "code",
      "metadata": {
        "id": "iDQILWhh7cF9",
        "colab_type": "code",
        "colab": {
          "base_uri": "https://localhost:8080/",
          "height": 295
        },
        "outputId": "62712706-dbba-4310-f06b-797d0578e293"
      },
      "source": [
        "import matplotlib.pyplot as plt\n",
        "\n",
        "# summarize history for accuracy\n",
        "plt.plot(history.history['accuracy'])\n",
        "plt.plot(history.history['val_accuracy'])\n",
        "plt.title('model accuracy')\n",
        "plt.ylabel('accuracy')\n",
        "plt.xlabel('epoch')\n",
        "plt.legend(['train', 'test'], loc='upper left')\n",
        "plt.show()"
      ],
      "execution_count": null,
      "outputs": [
        {
          "output_type": "display_data",
          "data": {
            "image/png": "[encoded data removed]",
            "text/plain": [
              "<Figure size 432x288 with 1 Axes>"
            ]
          },
          "metadata": {
            "tags": [],
            "needs_background": "light"
          }
        }
      ]
    },
    {
      "cell_type": "code",
      "metadata": {
        "id": "VfP2pJU57qe1",
        "colab_type": "code",
        "colab": {
          "base_uri": "https://localhost:8080/",
          "height": 312
        },
        "outputId": "07500c37-8ca1-430a-86a0-a5848ccb6e79"
      },
      "source": [
        "# summarize history for loss\n",
        "plt.plot(history.history['loss'])\n",
        "plt.plot(history.history['val_loss'])\n",
        "plt.title('model loss')\n",
        "plt.ylabel('loss')\n",
        "plt.xlabel('epoch')\n",
        "plt.legend(['train', 'test'], loc='upper right')"
      ],
      "execution_count": null,
      "outputs": [
        {
          "output_type": "execute_result",
          "data": {
            "text/plain": [
              "<matplotlib.legend.Legend at 0x7f15b63a5da0>"
            ]
          },
          "metadata": {
            "tags": []
          },
          "execution_count": 12
        },
        {
          "output_type": "display_data",
          "data": {
            "image/png": "[encoded data removed]",
            "text/plain": [
              "<Figure size 432x288 with 1 Axes>"
            ]
          },
          "metadata": {
            "tags": [],
            "needs_background": "light"
          }
        }
      ]
    },
    {
      "cell_type": "code",
      "metadata": {
        "id": "ozLBbn6p72zj",
        "colab_type": "code",
        "colab": {
          "base_uri": "https://localhost:8080/",
          "height": 158
        },
        "outputId": "6ab7cf90-aa55-4aaf-f3fa-1a8e742f04b5"
      },
      "source": [
        "from sklearn.metrics import accuracy_score\n",
        "from sklearn.metrics import precision_score\n",
        "from sklearn.metrics import recall_score\n",
        "from sklearn.metrics import f1_score\n",
        "from sklearn.metrics import cohen_kappa_score\n",
        "from sklearn.metrics import roc_auc_score\n",
        "from sklearn.metrics import confusion_matrix\n",
        "\n",
        "# predict probabilities for test set\n",
        "yhat_probs = model.predict(X_test, verbose=0)\n",
        "# predict crisp classes for test set\n",
        "yhat_classes = model.predict_classes(X_test, verbose=0)\n",
        "\n",
        "\n",
        "# The predictions are returned in a two-dimensional array, with one row for each example in the test dataset and one column for the prediction.\n",
        "# The scikit-learn metrics API expects a 1D array of actual and predicted values for comparison, therefore, we must reduce the 2D prediction arrays to 1D arrays\n",
        "# reduce to 1d array\n",
        "yhat_probs = yhat_probs[:, 0]\n",
        "yhat_classes = yhat_classes[:, 0]\n",
        "\n",
        "# accuracy: (tp + tn) / (p + n)\n",
        "accuracy = accuracy_score(y_test, yhat_classes)\n",
        "print('Accuracy: %f' % accuracy)\n",
        "# precision tp / (tp + fp)\n",
        "precision = precision_score(y_test, yhat_classes)\n",
        "print('Precision: %f' % precision)\n",
        "# recall: tp / (tp + fn)\n",
        "recall = recall_score(y_test, yhat_classes)\n",
        "print('Recall: %f' % recall)\n",
        "# f1: 2 tp / (2 tp + fp + fn)\n",
        "f1 = f1_score(y_test, yhat_classes)\n",
        "print('F1 score: %f' % f1)\n",
        "\n",
        "# kappa\n",
        "kappa = cohen_kappa_score(y_test, yhat_classes)\n",
        "print('Cohens kappa: %f' % kappa)\n",
        "# ROC AUC\n",
        "auc = roc_auc_score(y_test, yhat_probs)\n",
        "print('ROC AUC: %f' % auc)\n",
        "# confusion matrix\n",
        "matrix = confusion_matrix(y_test, yhat_classes)\n",
        "print(matrix)\n",
        "\n"
      ],
      "execution_count": null,
      "outputs": [
        {
          "output_type": "stream",
          "text": [
            "Accuracy: 0.986468\n",
            "Precision: 0.941914\n",
            "Recall: 0.949452\n",
            "F1 score: 0.945668\n",
            "Cohens kappa: 0.937940\n",
            "ROC AUC: 0.994197\n",
            "[[16627   139]\n",
            " [  120  2254]]\n"
          ],
          "name": "stdout"
        }
      ]
    }
  ]
}
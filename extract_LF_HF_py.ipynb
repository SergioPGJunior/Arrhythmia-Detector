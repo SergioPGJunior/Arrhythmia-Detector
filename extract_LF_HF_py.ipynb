{
  "nbformat": 4,
  "nbformat_minor": 0,
  "metadata": {
    "colab": {
      "name": "extract_LF_HF.py",
      "provenance": [],
      "collapsed_sections": [],
      "mount_file_id": "1kEah6ZKa4dj_X4gbG36y2RPFu8oQl4GJ",
      "authorship_tag": "ABX9TyNBQ5clnMKY9lM3YJiD8HU6"
    },
    "kernelspec": {
      "name": "python3",
      "display_name": "Python 3"
    }
  },
  "cells": [
    {
      "cell_type": "code",
      "metadata": {
        "id": "PoYO2bmvsMtu",
        "colab_type": "code",
        "colab": {}
      },
      "source": [
        "!pip install wfdb #Biblioteca para leitura dos dados"
      ],
      "execution_count": 0,
      "outputs": []
    },
    {
      "cell_type": "code",
      "metadata": {
        "id": "nHZuaV0qHpZz",
        "colab_type": "code",
        "colab": {}
      },
      "source": [
        "!pip install neurokit2"
      ],
      "execution_count": 0,
      "outputs": []
    },
    {
      "cell_type": "code",
      "metadata": {
        "id": "oqUvHHgQr6fv",
        "colab_type": "code",
        "colab": {}
      },
      "source": [
        "import pandas as pd\n",
        "import numpy as np\n",
        "import wfdb\n",
        "import ast\n",
        "\n",
        "#Caminho onde os arquivos da base de dados estão armazenados\n",
        "path = \"/content/drive/My Drive/mit-bih-arrhythmia-database-1.0.0/\"\n",
        "\n",
        "#Cria um dataframe com os nomes dos arquivos\n",
        "rec = pd.read_csv(path + \"RECORDS\", names=\"n\", dtype=str)\n",
        "\n",
        "#Leitura e armazenamento dos dados\n",
        "data = [wfdb.io.rdsamp(path + filename) for filename in rec.n]"
      ],
      "execution_count": 0,
      "outputs": []
    },
    {
      "cell_type": "code",
      "metadata": {
        "id": "TndydbZ9tAvL",
        "colab_type": "code",
        "colab": {}
      },
      "source": [
        "#Separa os dados em duas matrizes: MLII e V1\n",
        "MLII = []\n",
        "V1 = []\n",
        "for i in data:\n",
        "  amostra = i[0].transpose()\n",
        "  MLII.append(amostra[0])\n",
        "  V1.append(amostra[1])"
      ],
      "execution_count": 0,
      "outputs": []
    },
    {
      "cell_type": "code",
      "metadata": {
        "id": "Sf98uis5HvA8",
        "colab_type": "code",
        "colab": {}
      },
      "source": [
        "import neurokit2 as nk\n",
        "import pandas as pd\n",
        "import numpy as np\n",
        "import seaborn as sns\n",
        "from sklearn.externals import joblib\n",
        "\n",
        "ecg_signal = MLII[0]\n",
        "signals, info = nk.ecg_process(ecg_signal)"
      ],
      "execution_count": 0,
      "outputs": []
    },
    {
      "cell_type": "code",
      "metadata": {
        "id": "-tVpOVKeLjwl",
        "colab_type": "code",
        "colab": {
          "base_uri": "https://localhost:8080/",
          "height": 34
        },
        "outputId": "dd42a2ea-5780-43f4-b4cf-7e459cbd7054"
      },
      "source": [
        "info"
      ],
      "execution_count": 36,
      "outputs": [
        {
          "output_type": "execute_result",
          "data": {
            "text/plain": [
              "{'ECG_R_Peaks': array([   370,    947,   1515, ..., 648477, 648978, 649484])}"
            ]
          },
          "metadata": {
            "tags": []
          },
          "execution_count": 36
        }
      ]
    },
    {
      "cell_type": "code",
      "metadata": {
        "id": "pf7j2GQ5Pfqs",
        "colab_type": "code",
        "colab": {
          "base_uri": "https://localhost:8080/",
          "height": 80
        },
        "outputId": "15db8156-8b5f-4dac-a55f-c95de5b1afc8"
      },
      "source": [
        "nk.hrv_frequency(info)"
      ],
      "execution_count": 37,
      "outputs": [
        {
          "output_type": "execute_result",
          "data": {
            "text/html": [
              "<div>\n",
              "<style scoped>\n",
              "    .dataframe tbody tr th:only-of-type {\n",
              "        vertical-align: middle;\n",
              "    }\n",
              "\n",
              "    .dataframe tbody tr th {\n",
              "        vertical-align: top;\n",
              "    }\n",
              "\n",
              "    .dataframe thead th {\n",
              "        text-align: right;\n",
              "    }\n",
              "</style>\n",
              "<table border=\"1\" class=\"dataframe\">\n",
              "  <thead>\n",
              "    <tr style=\"text-align: right;\">\n",
              "      <th></th>\n",
              "      <th>HRV_ULF</th>\n",
              "      <th>HRV_VLF</th>\n",
              "      <th>HRV_LF</th>\n",
              "      <th>HRV_HF</th>\n",
              "      <th>HRV_VHF</th>\n",
              "      <th>HRV_LFHF</th>\n",
              "      <th>HRV_LFn</th>\n",
              "      <th>HRV_HFn</th>\n",
              "      <th>HRV_LnHF</th>\n",
              "    </tr>\n",
              "  </thead>\n",
              "  <tbody>\n",
              "    <tr>\n",
              "      <th>0</th>\n",
              "      <td>NaN</td>\n",
              "      <td>NaN</td>\n",
              "      <td>784.478821</td>\n",
              "      <td>1464.526961</td>\n",
              "      <td>1613.763879</td>\n",
              "      <td>0.535653</td>\n",
              "      <td>0.203087</td>\n",
              "      <td>0.379139</td>\n",
              "      <td>7.289288</td>\n",
              "    </tr>\n",
              "  </tbody>\n",
              "</table>\n",
              "</div>"
            ],
            "text/plain": [
              "   HRV_ULF  HRV_VLF      HRV_LF  ...   HRV_LFn   HRV_HFn  HRV_LnHF\n",
              "0      NaN      NaN  784.478821  ...  0.203087  0.379139  7.289288\n",
              "\n",
              "[1 rows x 9 columns]"
            ]
          },
          "metadata": {
            "tags": []
          },
          "execution_count": 37
        }
      ]
    }
  ]
}
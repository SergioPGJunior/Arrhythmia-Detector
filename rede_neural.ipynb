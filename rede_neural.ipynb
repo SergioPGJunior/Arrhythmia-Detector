{
  "nbformat": 4,
  "nbformat_minor": 0,
  "metadata": {
    "colab": {
      "name": "rede_neural.ipynb",
      "provenance": [],
      "mount_file_id": "1XDjoRzei-6aWcfkglkd3b0nNVlRclGXx",
      "authorship_tag": "ABX9TyNR8dTAnGszPrLVTMCs3e8L",
      "include_colab_link": true
    },
    "kernelspec": {
      "name": "python3",
      "display_name": "Python 3"
    }
  },
  "cells": [
    {
      "cell_type": "markdown",
      "metadata": {
        "id": "view-in-github",
        "colab_type": "text"
      },
      "source": [
        "<a href=\"https://colab.research.google.com/github/SergioPGJunior/Detectar_Arritmia/blob/master/rede_neural.ipynb\" target=\"_parent\"><img src=\"https://colab.research.google.com/assets/colab-badge.svg\" alt=\"Open In Colab\"/></a>"
      ]
    },
    {
      "cell_type": "code",
      "metadata": {
        "id": "7gv-Dx1Y67os"
      },
      "source": [
        "! pip install wfdb"
      ],
      "execution_count": null,
      "outputs": []
    },
    {
      "cell_type": "code",
      "metadata": {
        "id": "M5PiusYy8LeU"
      },
      "source": [
        "import pandas as pd\n",
        "import numpy as np\n",
        "import wfdb\n",
        "from sklearn.neural_network import MLPClassifier\n",
        "from sklearn.model_selection import StratifiedShuffleSplit\n",
        "from sklearn.model_selection import GridSearchCV\n",
        "from sklearn.model_selection import train_test_split\n",
        "from sklearn.preprocessing import StandardScaler\n",
        "from sklearn.metrics import accuracy_score\n",
        "from sklearn.metrics import precision_score\n",
        "from sklearn.metrics import recall_score\n",
        "from sklearn.metrics import confusion_matrix\n",
        "from keras.models import Sequential\n",
        "from keras.models import load_model\n",
        "from keras.layers import Dense, Dropout\n",
        "from keras.optimizers import SGD\n",
        "from keras.callbacks import EarlyStopping\n",
        "from keras.callbacks import ModelCheckpoint\n",
        "import matplotlib.pyplot as plt"
      ],
      "execution_count": 2,
      "outputs": []
    },
    {
      "cell_type": "code",
      "metadata": {
        "id": "99jalzb38N7y"
      },
      "source": [
        "def load_ecg(file):\n",
        "    # Leitura e armazenamento dos dados\n",
        "    record = wfdb.rdrecord(file)\n",
        "\n",
        "    # Leitura e armazenamento das anotações\n",
        "    annotation = wfdb.rdann(file, \"atr\")\n",
        "\n",
        "    #Extrai os sinais\n",
        "    p_signal = record.p_signal\n",
        "\n",
        "    #Verifica se a frequência é 360\n",
        "    assert record.fs == 360, \"Frequência de amostragem não é 360\"\n",
        "\n",
        "    #Extrai os símbolos e anotações\n",
        "    atr_sym = annotation.symbol\n",
        "    atr_sample = annotation.sample\n",
        "\n",
        "    return p_signal, atr_sym, atr_sample\n",
        "\n",
        "def build_XY(p_signal, df_ann, num_cols, abnormal, num_sec, fs):\n",
        "  # this function builds the X,Y matrices for each beat\n",
        "  # it also returns the original symbols for Y\n",
        "\n",
        "  num_rows = len(df_ann)\n",
        "  X = np.zeros((num_rows, num_cols))\n",
        "  Y = np.zeros((num_rows, 1))\n",
        "  sym = []\n",
        "\n",
        "  # keep track of rows\n",
        "  max_row = 0\n",
        "  for atr_sample, atr_sym in zip(df_ann.atr_sample.values, df_ann.atr_sym.values):\n",
        "      left = max([0, (atr_sample - num_sec * fs)])\n",
        "      right = min([len(p_signal), (atr_sample + num_sec * fs)])\n",
        "      x = p_signal[left: right]\n",
        "      if len(x) == num_cols:\n",
        "          X[max_row, :] = x\n",
        "          Y[max_row, :] = int(atr_sym in abnormal)\n",
        "          sym.append(atr_sym)\n",
        "          max_row += 1\n",
        "  X = X[:max_row, :]\n",
        "  Y = Y[:max_row, :]\n",
        "  return X, Y, sym"
      ],
      "execution_count": 3,
      "outputs": []
    },
    {
      "cell_type": "code",
      "metadata": {
        "id": "OAC3xnbE8ZNu",
        "colab": {
          "base_uri": "https://localhost:8080/"
        },
        "outputId": "d9aa7f54-3263-4eda-b453-3f7c8cb45128"
      },
      "source": [
        "# Caminho onde os arquivos da base de dados estão armazenados\n",
        "path = \"/content/drive/My Drive/mit-bih-arrhythmia-database-1.0.0/\"\n",
        "\n",
        "# Cria um dataframe com os nomes dos arquivos\n",
        "rec = pd.read_csv(path + \"RECORDS\", names=['n'], dtype=str)\n",
        "\n",
        "# Lista de nonbeats e abnormal\n",
        "nonbeat = ['[', '!', ']', 'x', '(', ')', 'p', 't', '`', 'u', '\\\\', '^', '|', '~', '+', 's', 'T', '*', 'D', '=', '\"', '@', 'Q', '?']\n",
        "abnormal = ['V', 'A']\n",
        "\n",
        "num_sec = 1\n",
        "fs = 360\n",
        "\n",
        "#Inicilaiza os vetores\n",
        "num_cols = 2 * num_sec * fs #numero de colunas que vai armazenar um amostra \n",
        "X_all = np.zeros((1, num_cols)) #Cria um vetor com numero de elementos igual a num_cols e preenche com zeros \n",
        "Y_all = np.zeros((1, 1)) #cria um vetor com com um elemento e preenche com zero\n",
        "sym_all = []\n",
        "\n",
        "#Lista para controlar o número de batimentos de cada paciente\n",
        "max_rows = []\n",
        "\n",
        "for pt in rec.n:\n",
        "  file = path + pt\n",
        "  p_signal, atr_sym, atr_sample = load_ecg(file)\n",
        "  \n",
        "  if 'A' and 'V' in atr_sym:\n",
        "    #Seleciona o sinal MLII\n",
        "    p_signal = p_signal[:, 0]\n",
        "    \n",
        "    # Cria um df para excluir o que mão é um batimento\n",
        "    df_ann = pd.DataFrame({'atr_sym': atr_sym,\n",
        "                          'atr_sample': atr_sample})\n",
        "    df_ann = df_ann.loc[df_ann.atr_sym.isin(abnormal + ['N'])]\n",
        "   \n",
        "    X, Y, sym = build_XY(p_signal, df_ann, num_cols, abnormal, num_sec, fs)\n",
        "    sym_all = sym_all + sym\n",
        "    max_rows.append(X.shape[0])\n",
        "    X_all = np.append(X_all, X, axis=0)\n",
        "    Y_all = np.append(Y_all, Y, axis=0)\n",
        "\n",
        "#Exclui a primeira linha que é formada por zeros\n",
        "X_all = X_all[1:, :]\n",
        "Y_all = Y_all[1:, :]\n",
        "\n",
        "#Verifica se os tamanhos das matrizes fazem sentido\n",
        "assert np.sum(max_rows) == X_all.shape[0], 'number of X, max_rows rows messed up'\n",
        "assert Y_all.shape[0] == X_all.shape[0], 'number of X, Y rows messed up'\n",
        "assert Y_all.shape[0] == len(sym_all), 'number of Y, sym rows messed up'\n",
        "\n",
        "d = {x:np.count_nonzero(Y_all == x) for x in [0,1]} #Calcula quantas amostras cada classe possui 0 -> Normal, 1 -> Arritmia\n",
        "\n",
        "print('Classes: ',d)\n",
        "print('Quantidade total de amostras: ', len(X_all)) #Quantidade total de amostras"
      ],
      "execution_count": 4,
      "outputs": [
        {
          "output_type": "stream",
          "text": [
            "Classes:  {0: 55820, 1: 7979}\n",
            "Quantidade total de amostras:  63799\n"
          ],
          "name": "stdout"
        }
      ]
    },
    {
      "cell_type": "code",
      "metadata": {
        "id": "shk1cKrmGbwS"
      },
      "source": [
        "#Processamento dos dados\r\n",
        "\r\n",
        "scaler = StandardScaler()\r\n",
        "scaler.fit(X_all)\r\n",
        "X_all = scaler.transform(X_all)\r\n",
        "\r\n",
        "X_train, X_test, y_train, y_test = train_test_split(X_all, Y_all, test_size=0.3)"
      ],
      "execution_count": 5,
      "outputs": []
    },
    {
      "cell_type": "code",
      "metadata": {
        "id": "yp-3VbYDWAkR",
        "colab": {
          "base_uri": "https://localhost:8080/"
        },
        "outputId": "8b8d4260-70ba-45ab-a75a-0c33b916002d"
      },
      "source": [
        "#Busca em grade dos parâmetros hidden_layer_sizes e learning_rate_init da função MLPClassifier\r\n",
        "\r\n",
        "hls_range = [5, 10, 15]  #hidden layer sizes\r\n",
        "lr_range = [0.001, 0.01, 0.1] #learning_rate_init\r\n",
        "\r\n",
        "param_grid = dict(hidden_layer_sizes=hls_range, learning_rate_init=lr_range)\r\n",
        "cv = StratifiedShuffleSplit(n_splits=5, test_size=0.2, random_state=42)\r\n",
        "grid = GridSearchCV(MLPClassifier(activation='tanh',solver='sgd',\r\n",
        "                                  validation_fraction=0.1,early_stopping=True, \r\n",
        "                                  max_iter=500), param_grid=param_grid, cv=cv)\r\n",
        "grid.fit(X_train, np.ravel(y_train))\r\n",
        "\r\n",
        "\r\n",
        "print(\"The best parameters are %s with a score of %0.2f\"\r\n",
        "      % (grid.best_params_, grid.best_score_))"
      ],
      "execution_count": 6,
      "outputs": [
        {
          "output_type": "stream",
          "text": [
            "The best parameters are {'hidden_layer_sizes': 15, 'learning_rate_init': 0.01} with a score of 0.98\n"
          ],
          "name": "stdout"
        }
      ]
    },
    {
      "cell_type": "code",
      "metadata": {
        "colab": {
          "base_uri": "https://localhost:8080/"
        },
        "id": "SJz7iW51Lc4K",
        "outputId": "8959986c-b7e0-4c81-8b68-94f35374964c"
      },
      "source": [
        "#Etapa de teste da rede neural\r\n",
        "\r\n",
        "yhat = grid.predict(X_test)\r\n",
        "\r\n",
        "# accuracy: (tp + tn) / (p + n)\r\n",
        "accuracy = accuracy_score(y_test, yhat)\r\n",
        "print('Accuracy: %f' % accuracy)\r\n",
        "# precision tp / (tp + fp)\r\n",
        "precision = precision_score(y_test, yhat)\r\n",
        "print('Precision: %f' % precision)\r\n",
        "# recall: tp / (tp + fn)\r\n",
        "recall = recall_score(y_test, yhat)\r\n",
        "print('Recall: %f' % recall)\r\n",
        "# confusion matrix\r\n",
        "matrix = confusion_matrix(y_test, yhat)\r\n",
        "print(matrix)"
      ],
      "execution_count": 7,
      "outputs": [
        {
          "output_type": "stream",
          "text": [
            "Accuracy: 0.983699\n",
            "Precision: 0.976286\n",
            "Recall: 0.893896\n",
            "[[16646    53]\n",
            " [  259  2182]]\n"
          ],
          "name": "stdout"
        }
      ]
    },
    {
      "cell_type": "code",
      "metadata": {
        "id": "hphQ0n5h8fCB",
        "colab": {
          "base_uri": "https://localhost:8080/"
        },
        "outputId": "a19f2782-bf89-4482-c4ad-f8624ac9e448"
      },
      "source": [
        "#Rede neural no Keras com os parâmetros encontrados na busca em grade\n",
        "\n",
        "# create model\n",
        "model = Sequential()\n",
        "model.add(Dense(15, input_dim=X_train.shape[1], activation='tanh'))\n",
        "#model.add(Dropout(rate=0.25))\n",
        "model.add(Dense(1, activation='sigmoid'))\n",
        "\n",
        "# Compile model\n",
        "opt = SGD(learning_rate=0.01)\n",
        "model.compile(loss='binary_crossentropy', optimizer=opt, metrics=['accuracy'])\n",
        "\n",
        "# simple early stopping\n",
        "es = EarlyStopping(monitor='val_loss', mode='min', verbose=1, patience=10)\n",
        "mc = ModelCheckpoint('best_model.h5', monitor='val_accuracy', mode='max', verbose=0, save_best_only=True)\n",
        "\n",
        "#Dado que o número de amostras de batimentos normais é 7 vezes maior do que anormais, foi utilizado o balancemaneto das classes\n",
        "class_weight = {0: 1.,\n",
        "                1: 7.}\n",
        "\n",
        "# Fit the model\n",
        "history = model.fit(X_train, y_train, validation_split=0.1, epochs=500, batch_size=200, class_weight=class_weight, verbose=0, callbacks=[es, mc])\n"
      ],
      "execution_count": 8,
      "outputs": [
        {
          "output_type": "stream",
          "text": [
            "Epoch 00080: early stopping\n"
          ],
          "name": "stdout"
        }
      ]
    },
    {
      "cell_type": "code",
      "metadata": {
        "id": "JjtyXA7J9QaD",
        "colab": {
          "base_uri": "https://localhost:8080/",
          "height": 280
        },
        "outputId": "345dafd7-25f7-450a-a4f8-3ac1323ff264"
      },
      "source": [
        "# Acurácias de validação e treino por épocas\n",
        "plt.plot(history.history['accuracy'])\n",
        "plt.plot(history.history['val_accuracy'])\n",
        "plt.ylabel('acurácia')\n",
        "plt.xlabel('época')\n",
        "plt.legend(['treino', 'validação'], loc='lower right')\n",
        "plt.grid()\n",
        "plt.show()"
      ],
      "execution_count": 9,
      "outputs": [
        {
          "output_type": "display_data",
          "data": {
            "image/png": "[encoded data removed]",
            "text/plain": [
              "<Figure size 432x288 with 1 Axes>"
            ]
          },
          "metadata": {
            "tags": [],
            "needs_background": "light"
          }
        }
      ]
    },
    {
      "cell_type": "code",
      "metadata": {
        "id": "p1Oqa6Eh9REu",
        "colab": {
          "base_uri": "https://localhost:8080/",
          "height": 280
        },
        "outputId": "0db4d7b1-bf43-4e0d-f701-b34472b38d0b"
      },
      "source": [
        "# Erros de validação e treino por épocas\n",
        "plt.plot(history.history['loss'])\n",
        "plt.plot(history.history['val_loss'])\n",
        "plt.ylabel('loss')\n",
        "plt.xlabel('época')\n",
        "plt.legend(['treino', 'validação'], loc='upper right')\n",
        "plt.grid()\n",
        "plt.show()"
      ],
      "execution_count": 10,
      "outputs": [
        {
          "output_type": "display_data",
          "data": {
            "image/png": "[encoded data removed]",
            "text/plain": [
              "<Figure size 432x288 with 1 Axes>"
            ]
          },
          "metadata": {
            "tags": [],
            "needs_background": "light"
          }
        }
      ]
    }
  ]
}
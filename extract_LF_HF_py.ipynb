{
  "nbformat": 4,
  "nbformat_minor": 0,
  "metadata": {
    "colab": {
      "name": "extract_LF_HF.py",
      "provenance": [],
      "collapsed_sections": [],
      "mount_file_id": "1kEah6ZKa4dj_X4gbG36y2RPFu8oQl4GJ",
      "authorship_tag": "ABX9TyN+/aP2W6RgxrkbjbrjXISo",
      "include_colab_link": true
    },
    "kernelspec": {
      "name": "python3",
      "display_name": "Python 3"
    }
  },
  "cells": [
    {
      "cell_type": "markdown",
      "metadata": {
        "id": "view-in-github",
        "colab_type": "text"
      },
      "source": [
        "<a href=\"https://colab.research.google.com/github/SergioPGJunior/detecthypotension/blob/master/extract_LF_HF_py.ipynb\" target=\"_parent\"><img src=\"https://colab.research.google.com/assets/colab-badge.svg\" alt=\"Open In Colab\"/></a>"
      ]
    },
    {
      "cell_type": "code",
      "metadata": {
        "id": "PoYO2bmvsMtu",
        "colab_type": "code",
        "colab": {}
      },
      "source": [
        "!pip install wfdb #Biblioteca para leitura dos dados"
      ],
      "execution_count": 0,
      "outputs": []
    },
    {
      "cell_type": "code",
      "metadata": {
        "id": "nHZuaV0qHpZz",
        "colab_type": "code",
        "colab": {}
      },
      "source": [
        "!pip install neurokit2"
      ],
      "execution_count": 0,
      "outputs": []
    },
    {
      "cell_type": "code",
      "metadata": {
        "id": "oqUvHHgQr6fv",
        "colab_type": "code",
        "colab": {}
      },
      "source": [
        "import pandas as pd\n",
        "import numpy as np\n",
        "import wfdb\n",
        "import ast\n",
        "\n",
        "#Caminho onde os arquivos da base de dados estão armazenados\n",
        "path = \"/content/drive/My Drive/mit-bih-arrhythmia-database-1.0.0/\"\n",
        "\n",
        "#Cria um dataframe com os nomes dos arquivos\n",
        "rec = pd.read_csv(path + \"RECORDS\", names=\"n\", dtype=str)\n",
        "\n",
        "#Leitura e armazenamento dos dados\n",
        "data = [wfdb.io.rdsamp(path + filename) for filename in rec.n]\n",
        "\n",
        "#Leitura e armazenamento das anotações\n",
        "annotation = [wfdb.io.rdann(path + filename,\"atr\") for filename in rec.n]"
      ],
      "execution_count": 0,
      "outputs": []
    },
    {
      "cell_type": "code",
      "metadata": {
        "id": "TndydbZ9tAvL",
        "colab_type": "code",
        "colab": {}
      },
      "source": [
        "#Separa os dados em duas matrizes: MLII e V5\n",
        "MLII = []\n",
        "V1 = []\n",
        "for i in data:\n",
        "  amostra = i[0].transpose()\n",
        "  MLII.append(amostra[0])\n",
        "  V1.append(amostra[1])"
      ],
      "execution_count": 0,
      "outputs": []
    },
    {
      "cell_type": "code",
      "metadata": {
        "id": "ZvHS6LFSnQ0W",
        "colab_type": "code",
        "outputId": "965ff7bf-5a17-4d75-e504-fbf07695fcf9",
        "colab": {
          "base_uri": "https://localhost:8080/",
          "height": 85
        }
      },
      "source": [
        "#Teste de detecção dos rpeaks utilizando a função xqrs disponível na biblioteca wfdb\n",
        "from wfdb import processing\n",
        "\n",
        "sig = MLII[0]\n",
        "xqrs = processing.xqrs_detect(sig, fs=360)"
      ],
      "execution_count": 5,
      "outputs": [
        {
          "output_type": "stream",
          "text": [
            "Learning initial signal parameters...\n",
            "Found 8 beats during learning. Initializing using learned parameters\n",
            "Running QRS detection...\n",
            "QRS detection complete.\n"
          ],
          "name": "stdout"
        }
      ]
    },
    {
      "cell_type": "code",
      "metadata": {
        "id": "Sf98uis5HvA8",
        "colab_type": "code",
        "colab": {}
      },
      "source": [
        "#Teste com todos os algoritmos para encontrar os rpeaks disponíveis na biblioteca NeuroKit\n",
        "import neurokit2 as nk\n",
        "import pandas as pd\n",
        "import numpy as np\n",
        "import seaborn as sns\n",
        "from sklearn.externals import joblib\n",
        "\n",
        "ecg = MLII[0]\n",
        "\n",
        "cleaned = nk.ecg_clean(ecg, sampling_rate=360)\n",
        "\n",
        "neurokit = nk.ecg_findpeaks(nk.ecg_clean(ecg, method=\"neurokit\"),sampling_rate=360, method=\"neurokit\")\n",
        "pantompkins1985 = nk.ecg_findpeaks(nk.ecg_clean(ecg, method=\"pantompkins1985\"),sampling_rate=360, method=\"pantompkins1985\")\n",
        "hamilton2002 = nk.ecg_findpeaks(nk.ecg_clean(ecg, method=\"hamilton2002\"),sampling_rate=360, method=\"hamilton2002\")\n",
        "martinez2003 = nk.ecg_findpeaks(cleaned,sampling_rate=360, method=\"martinez2003\")\n",
        "christov2004 = nk.ecg_findpeaks(cleaned,sampling_rate=360, method=\"christov2004\")\n",
        "gamboa2008 = nk.ecg_findpeaks(nk.ecg_clean(ecg, method=\"gamboa2008\"),sampling_rate=360, method=\"gamboa2008\")\n",
        "elgendi2010 = nk.ecg_findpeaks(nk.ecg_clean(ecg, method=\"elgendi2010\"),sampling_rate=360, method=\"elgendi2010\")\n",
        "engzeemod2012 = nk.ecg_findpeaks(nk.ecg_clean(ecg, method=\"engzeemod2012\"),sampling_rate=360, method=\"engzeemod2012\")\n",
        "kalidas2017 = nk.ecg_findpeaks(nk.ecg_clean(ecg, method=\"kalidas2017\"),sampling_rate=360, method=\"kalidas2017\")\n",
        "rodrigues2020 = nk.ecg_findpeaks(cleaned,sampling_rate=360, method=\"rodrigues2020\")"
      ],
      "execution_count": 0,
      "outputs": []
    },
    {
      "cell_type": "code",
      "metadata": {
        "id": "pf7j2GQ5Pfqs",
        "colab_type": "code",
        "colab": {}
      },
      "source": [
        "#Teste de Leitura e armazenamento das anotações da base de dados\n",
        "annotation = wfdb.io.rdann(\"/content/drive/My Drive/mit-bih-arrhythmia-database-1.0.0/100\",\"atr\")\n",
        "\n",
        "#Cria um dtaaframe onde a primeira coluna é a amostra e a segunda o label atribuido (chamando a fç wfdb.io.show_ann_labels() podemos ver a legenda dos labels)\n",
        "data = {'sample': annotation.sample,'type': annotation.symbol}\n",
        "df = pd.DataFrame(data)\n",
        "\n",
        "#Cria um dataframe apenas com as amostras onde picos R (com label N) são encontrados\n",
        "rpeaks_notes = df[df['type'] == 'N']"
      ],
      "execution_count": 0,
      "outputs": []
    },
    {
      "cell_type": "code",
      "metadata": {
        "id": "JTk27NF90caX",
        "colab_type": "code",
        "colab": {}
      },
      "source": [
        "help(wfdb.Annotation)"
      ],
      "execution_count": 0,
      "outputs": []
    }
  ]
}